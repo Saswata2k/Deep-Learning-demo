{
 "cells": [
  {
   "cell_type": "code",
   "execution_count": 25,
   "metadata": {
    "collapsed": false
   },
   "outputs": [],
   "source": [
    "from keras.models import Model,Sequential\n",
    "from keras.layers import Input,LSTM,GRU,Dense,Bidirectional,GlobalMaxPooling1D,Lambda,Concatenate\n",
    "import numpy as np\n",
    "import os\n",
    "import pandas as pd\n",
    "import keras.backend as K\n",
    "import matplotlib.pyplot as plt"
   ]
  },
  {
   "cell_type": "code",
   "execution_count": 15,
   "metadata": {
    "collapsed": true
   },
   "outputs": [],
   "source": [
    "def get_mnist_dataset(limit=None):\n",
    "    data_train=pd.read_csv('./data/train.csv')\n",
    "    #print(data_train.head())\n",
    "    data_train=data_train.as_matrix()\n",
    "    np.random.shuffle(data_train)\n",
    "    X=data_train[:,1:].reshape(-1,28,28)/255.0\n",
    "    y=data_train[:,0]\n",
    "    if limit is not None:\n",
    "        X,y=X[:limit],y[:limit]\n",
    "    return X,y"
   ]
  },
  {
   "cell_type": "code",
   "execution_count": 16,
   "metadata": {
    "collapsed": false
   },
   "outputs": [],
   "source": [
    "X,y=get_mnist_dataset()"
   ]
  },
  {
   "cell_type": "code",
   "execution_count": 19,
   "metadata": {
    "collapsed": true
   },
   "outputs": [],
   "source": [
    "#Configuration\n",
    "Dim=28\n",
    "#Latent Dimensionality\n",
    "M=15"
   ]
  },
  {
   "cell_type": "code",
   "execution_count": 20,
   "metadata": {
    "collapsed": false
   },
   "outputs": [],
   "source": [
    "#Input is of image size 28x28\n",
    "input_=Input(shape=(Dim,Dim))"
   ]
  },
  {
   "cell_type": "code",
   "execution_count": 22,
   "metadata": {
    "collapsed": false
   },
   "outputs": [],
   "source": [
    "#vertical wise\n",
    "rnn_v=Bidirectional(LSTM(M,return_sequences=True))\n",
    "X_v=rnn_v(input_) #output: NxDx2M\n",
    "X_v=GlobalMaxPooling1D()(X_v) #output: Nx2M"
   ]
  },
  {
   "cell_type": "code",
   "execution_count": 26,
   "metadata": {
    "collapsed": false
   },
   "outputs": [],
   "source": [
    "#horizontal wise\n",
    "rnn_h=Bidirectional(LSTM(M,return_sequences=True))\n",
    "#Custom layer for rotating image\n",
    "permutor=Lambda(lambda t:K.permute_dimensions(t,pattern=(0,2,1)))\n",
    "\n",
    "X_h=permutor(input_) #output: NxDx2M\n",
    "X_h=rnn_h(input_)\n",
    "X_h=GlobalMaxPooling1D()(X_h) #output: Nx2M"
   ]
  },
  {
   "cell_type": "code",
   "execution_count": 27,
   "metadata": {
    "collapsed": false
   },
   "outputs": [
    {
     "data": {
      "text/plain": [
       "TensorShape([Dimension(None), Dimension(60)])"
      ]
     },
     "execution_count": 27,
     "metadata": {},
     "output_type": "execute_result"
    }
   ],
   "source": [
    "#Combine both\n",
    "concatenator=Concatenate(axis=1)\n",
    "x=concatenator([X_h,X_v]) #output Nx4M\n",
    "x.shape"
   ]
  },
  {
   "cell_type": "code",
   "execution_count": 30,
   "metadata": {
    "collapsed": false
   },
   "outputs": [],
   "source": [
    "#Final dense layer\n",
    "output=Dense(10,activation='softmax')(x)\n",
    "model=Model(inputs=input_,outputs=output)\n",
    "#Compile Model\n",
    "#Don't use categorical cross entropy since it requires explicit one hot encoding\n",
    "model.compile(loss='sparse_categorical_crossentropy',optimizer='adam',metrics=['accuracy'])"
   ]
  },
  {
   "cell_type": "code",
   "execution_count": 31,
   "metadata": {
    "collapsed": false
   },
   "outputs": [
    {
     "name": "stdout",
     "output_type": "stream",
     "text": [
      "WARNING:tensorflow:From C:\\Program Files\\Anaconda3\\lib\\site-packages\\tensorflow\\python\\ops\\math_ops.py:3066: to_int32 (from tensorflow.python.ops.math_ops) is deprecated and will be removed in a future version.\n",
      "Instructions for updating:\n",
      "Use tf.cast instead.\n",
      "WARNING:tensorflow:From C:\\Program Files\\Anaconda3\\lib\\site-packages\\tensorflow\\python\\ops\\math_grad.py:102: div (from tensorflow.python.ops.math_ops) is deprecated and will be removed in a future version.\n",
      "Instructions for updating:\n",
      "Deprecated in favor of operator or tf.math.divide.\n",
      "Train on 33600 samples, validate on 8400 samples\n",
      "Epoch 1/10\n",
      "33600/33600 [==============================] - 47s 1ms/step - loss: 0.9311 - acc: 0.7388 - val_loss: 0.4166 - val_acc: 0.8793\n",
      "Epoch 2/10\n",
      "33600/33600 [==============================] - 45s 1ms/step - loss: 0.2958 - acc: 0.9197 - val_loss: 0.2512 - val_acc: 0.9314\n",
      "Epoch 3/10\n",
      "33600/33600 [==============================] - 42s 1ms/step - loss: 0.1984 - acc: 0.9435 - val_loss: 0.1709 - val_acc: 0.9537\n",
      "Epoch 4/10\n",
      "33600/33600 [==============================] - 41s 1ms/step - loss: 0.1568 - acc: 0.9526 - val_loss: 0.1458 - val_acc: 0.9601\n",
      "Epoch 5/10\n",
      "33600/33600 [==============================] - 41s 1ms/step - loss: 0.1309 - acc: 0.9618 - val_loss: 0.1303 - val_acc: 0.9618\n",
      "Epoch 6/10\n",
      "33600/33600 [==============================] - 41s 1ms/step - loss: 0.1115 - acc: 0.9664 - val_loss: 0.1159 - val_acc: 0.9663\n",
      "Epoch 7/10\n",
      "33600/33600 [==============================] - 43s 1ms/step - loss: 0.0997 - acc: 0.9701 - val_loss: 0.1054 - val_acc: 0.9699\n",
      "Epoch 8/10\n",
      "33600/33600 [==============================] - 42s 1ms/step - loss: 0.0896 - acc: 0.9730 - val_loss: 0.0959 - val_acc: 0.9707\n",
      "Epoch 9/10\n",
      "33600/33600 [==============================] - 43s 1ms/step - loss: 0.0800 - acc: 0.9761 - val_loss: 0.0857 - val_acc: 0.9748\n",
      "Epoch 10/10\n",
      "33600/33600 [==============================] - 43s 1ms/step - loss: 0.0728 - acc: 0.9776 - val_loss: 0.0860 - val_acc: 0.9760\n"
     ]
    }
   ],
   "source": [
    "#Train Model\n",
    "r_model=model.fit(X,y,batch_size=32,epochs=10,validation_split=0.2)"
   ]
  },
  {
   "cell_type": "code",
   "execution_count": 32,
   "metadata": {
    "collapsed": false
   },
   "outputs": [
    {
     "data": {
      "image/png": "[encoded data removed]",
      "text/plain": [
       "<Figure size 432x288 with 1 Axes>"
      ]
     },
     "metadata": {},
     "output_type": "display_data"
    },
    {
     "data": {
      "image/png": "[encoded data removed]",
      "text/plain": [
       "<Figure size 432x288 with 1 Axes>"
      ]
     },
     "metadata": {},
     "output_type": "display_data"
    }
   ],
   "source": [
    "#Plot data\n",
    "plt.plot(r_model.history['loss'],label='loss')\n",
    "plt.plot(r_model.history['val_loss'],label='val_loss')\n",
    "plt.legend()\n",
    "plt.show()\n",
    "\n",
    "#Accuracies\n",
    "plt.plot(r_model.history['acc'],label='acc')\n",
    "plt.plot(r_model.history['val_acc'],label='val_acc')\n",
    "plt.legend()\n",
    "plt.show()"
   ]
  },
  {
   "cell_type": "code",
   "execution_count": null,
   "metadata": {
    "collapsed": true
   },
   "outputs": [],
   "source": []
  }
 ],
 "metadata": {
  "anaconda-cloud": {},
  "kernelspec": {
   "display_name": "Python [conda root]",
   "language": "python",
   "name": "conda-root-py"
  },
  "language_info": {
   "codemirror_mode": {
    "name": "ipython",
    "version": 3
   },
   "file_extension": ".py",
   "mimetype": "text/x-python",
   "name": "python",
   "nbconvert_exporter": "python",
   "pygments_lexer": "ipython3",
   "version": "3.5.5"
  }
 },
 "nbformat": 4,
 "nbformat_minor": 1
}
