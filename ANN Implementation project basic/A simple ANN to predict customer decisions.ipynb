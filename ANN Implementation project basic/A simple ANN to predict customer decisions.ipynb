{
 "cells": [
  {
   "cell_type": "markdown",
   "metadata": {},
   "source": [
    "# Problem statement: Help the bank find out why their customers are leaving"
   ]
  },
  {
   "cell_type": "markdown",
   "metadata": {},
   "source": [
    "## Import Dataset and necessary libraries"
   ]
  },
  {
   "cell_type": "code",
   "execution_count": 1,
   "metadata": {
    "collapsed": false
   },
   "outputs": [
    {
     "name": "stderr",
     "output_type": "stream",
     "text": [
      "Using TensorFlow backend.\n"
     ]
    }
   ],
   "source": [
    "# Importing the libraries\n",
    "import numpy as np\n",
    "import matplotlib.pyplot as plt\n",
    "import pandas as pd\n",
    "from sklearn.preprocessing import LabelEncoder,OneHotEncoder\n",
    "\n",
    "from sklearn.preprocessing import StandardScaler\n",
    "from sklearn.model_selection import train_test_split\n",
    "\n",
    "#Import the necessary Keras libraries\n",
    "import keras\n",
    "#Sequential module for initializing neural network\n",
    "#Dense module to build layers of ANN\n",
    "from keras.models import Sequential\n",
    "from keras.layers import Dense\n",
    "\n",
    "\n",
    "from sklearn.metrics import confusion_matrix"
   ]
  },
  {
   "cell_type": "code",
   "execution_count": 2,
   "metadata": {
    "collapsed": false
   },
   "outputs": [
    {
     "data": {
      "text/html": [
       "<div>\n",
       "<style scoped>\n",
       "    .dataframe tbody tr th:only-of-type {\n",
       "        vertical-align: middle;\n",
       "    }\n",
       "\n",
       "    .dataframe tbody tr th {\n",
       "        vertical-align: top;\n",
       "    }\n",
       "\n",
       "    .dataframe thead th {\n",
       "        text-align: right;\n",
       "    }\n",
       "</style>\n",
       "<table border=\"1\" class=\"dataframe\">\n",
       "  <thead>\n",
       "    <tr style=\"text-align: right;\">\n",
       "      <th></th>\n",
       "      <th>RowNumber</th>\n",
       "      <th>CustomerId</th>\n",
       "      <th>Surname</th>\n",
       "      <th>CreditScore</th>\n",
       "      <th>Geography</th>\n",
       "      <th>Gender</th>\n",
       "      <th>Age</th>\n",
       "      <th>Tenure</th>\n",
       "      <th>Balance</th>\n",
       "      <th>NumOfProducts</th>\n",
       "      <th>HasCrCard</th>\n",
       "      <th>IsActiveMember</th>\n",
       "      <th>EstimatedSalary</th>\n",
       "      <th>Exited</th>\n",
       "    </tr>\n",
       "  </thead>\n",
       "  <tbody>\n",
       "    <tr>\n",
       "      <th>0</th>\n",
       "      <td>1</td>\n",
       "      <td>15634602</td>\n",
       "      <td>Hargrave</td>\n",
       "      <td>619</td>\n",
       "      <td>France</td>\n",
       "      <td>Female</td>\n",
       "      <td>42</td>\n",
       "      <td>2</td>\n",
       "      <td>0.00</td>\n",
       "      <td>1</td>\n",
       "      <td>1</td>\n",
       "      <td>1</td>\n",
       "      <td>101348.88</td>\n",
       "      <td>1</td>\n",
       "    </tr>\n",
       "    <tr>\n",
       "      <th>1</th>\n",
       "      <td>2</td>\n",
       "      <td>15647311</td>\n",
       "      <td>Hill</td>\n",
       "      <td>608</td>\n",
       "      <td>Spain</td>\n",
       "      <td>Female</td>\n",
       "      <td>41</td>\n",
       "      <td>1</td>\n",
       "      <td>83807.86</td>\n",
       "      <td>1</td>\n",
       "      <td>0</td>\n",
       "      <td>1</td>\n",
       "      <td>112542.58</td>\n",
       "      <td>0</td>\n",
       "    </tr>\n",
       "    <tr>\n",
       "      <th>2</th>\n",
       "      <td>3</td>\n",
       "      <td>15619304</td>\n",
       "      <td>Onio</td>\n",
       "      <td>502</td>\n",
       "      <td>France</td>\n",
       "      <td>Female</td>\n",
       "      <td>42</td>\n",
       "      <td>8</td>\n",
       "      <td>159660.80</td>\n",
       "      <td>3</td>\n",
       "      <td>1</td>\n",
       "      <td>0</td>\n",
       "      <td>113931.57</td>\n",
       "      <td>1</td>\n",
       "    </tr>\n",
       "    <tr>\n",
       "      <th>3</th>\n",
       "      <td>4</td>\n",
       "      <td>15701354</td>\n",
       "      <td>Boni</td>\n",
       "      <td>699</td>\n",
       "      <td>France</td>\n",
       "      <td>Female</td>\n",
       "      <td>39</td>\n",
       "      <td>1</td>\n",
       "      <td>0.00</td>\n",
       "      <td>2</td>\n",
       "      <td>0</td>\n",
       "      <td>0</td>\n",
       "      <td>93826.63</td>\n",
       "      <td>0</td>\n",
       "    </tr>\n",
       "    <tr>\n",
       "      <th>4</th>\n",
       "      <td>5</td>\n",
       "      <td>15737888</td>\n",
       "      <td>Mitchell</td>\n",
       "      <td>850</td>\n",
       "      <td>Spain</td>\n",
       "      <td>Female</td>\n",
       "      <td>43</td>\n",
       "      <td>2</td>\n",
       "      <td>125510.82</td>\n",
       "      <td>1</td>\n",
       "      <td>1</td>\n",
       "      <td>1</td>\n",
       "      <td>79084.10</td>\n",
       "      <td>0</td>\n",
       "    </tr>\n",
       "  </tbody>\n",
       "</table>\n",
       "</div>"
      ],
      "text/plain": [
       "   RowNumber  CustomerId   Surname  CreditScore Geography  Gender  Age  \\\n",
       "0          1    15634602  Hargrave          619    France  Female   42   \n",
       "1          2    15647311      Hill          608     Spain  Female   41   \n",
       "2          3    15619304      Onio          502    France  Female   42   \n",
       "3          4    15701354      Boni          699    France  Female   39   \n",
       "4          5    15737888  Mitchell          850     Spain  Female   43   \n",
       "\n",
       "   Tenure    Balance  NumOfProducts  HasCrCard  IsActiveMember  \\\n",
       "0       2       0.00              1          1               1   \n",
       "1       1   83807.86              1          0               1   \n",
       "2       8  159660.80              3          1               0   \n",
       "3       1       0.00              2          0               0   \n",
       "4       2  125510.82              1          1               1   \n",
       "\n",
       "   EstimatedSalary  Exited  \n",
       "0        101348.88       1  \n",
       "1        112542.58       0  \n",
       "2        113931.57       1  \n",
       "3         93826.63       0  \n",
       "4         79084.10       0  "
      ]
     },
     "execution_count": 2,
     "metadata": {},
     "output_type": "execute_result"
    }
   ],
   "source": [
    "#Import sample churn modelling data for a bank\n",
    "bank_data=pd.read_csv('Churn_Modelling.csv')\n",
    "bank_data.head()"
   ]
  },
  {
   "cell_type": "code",
   "execution_count": 3,
   "metadata": {
    "collapsed": false
   },
   "outputs": [
    {
     "data": {
      "text/plain": [
       "array([1, 0, 1, ..., 1, 1, 0], dtype=int64)"
      ]
     },
     "execution_count": 3,
     "metadata": {},
     "output_type": "execute_result"
    }
   ],
   "source": [
    "X = bank_data.iloc[:, 3:13].values\n",
    "y = bank_data.iloc[:, 13].values\n",
    "y"
   ]
  },
  {
   "cell_type": "code",
   "execution_count": 4,
   "metadata": {
    "collapsed": false
   },
   "outputs": [
    {
     "data": {
      "text/plain": [
       "array([619, 'France', 'Female', 42, 2, 0.0, 1, 1, 1, 101348.88],\n",
       "      dtype=object)"
      ]
     },
     "execution_count": 4,
     "metadata": {},
     "output_type": "execute_result"
    }
   ],
   "source": [
    "X[0]"
   ]
  },
  {
   "cell_type": "markdown",
   "metadata": {},
   "source": [
    "## Preprocess data"
   ]
  },
  {
   "cell_type": "code",
   "execution_count": 5,
   "metadata": {
    "collapsed": false
   },
   "outputs": [
    {
     "data": {
      "text/plain": [
       "array([[619, 0, 'Female', ..., 1, 1, 101348.88],\n",
       "       [608, 2, 'Female', ..., 0, 1, 112542.58],\n",
       "       [502, 0, 'Female', ..., 1, 0, 113931.57],\n",
       "       ...,\n",
       "       [709, 0, 'Female', ..., 0, 1, 42085.58],\n",
       "       [772, 1, 'Male', ..., 1, 0, 92888.52],\n",
       "       [792, 0, 'Female', ..., 1, 0, 38190.78]], dtype=object)"
      ]
     },
     "execution_count": 5,
     "metadata": {},
     "output_type": "execute_result"
    }
   ],
   "source": [
    "#Encoding categorical variable data\n",
    "labelencoder_X_1=LabelEncoder()\n",
    "X[:,1]=labelencoder_X_1.fit_transform(X[:,1])\n",
    "X"
   ]
  },
  {
   "cell_type": "markdown",
   "metadata": {},
   "source": [
    "### Encode the categorical variables , remove dummy variables (if two or more categories are present)"
   ]
  },
  {
   "cell_type": "code",
   "execution_count": 6,
   "metadata": {
    "collapsed": false
   },
   "outputs": [
    {
     "data": {
      "text/plain": [
       "array([[619, 0, 0, ..., 1, 1, 101348.88],\n",
       "       [608, 2, 0, ..., 0, 1, 112542.58],\n",
       "       [502, 0, 0, ..., 1, 0, 113931.57],\n",
       "       ...,\n",
       "       [709, 0, 0, ..., 0, 1, 42085.58],\n",
       "       [772, 1, 1, ..., 1, 0, 92888.52],\n",
       "       [792, 0, 0, ..., 1, 0, 38190.78]], dtype=object)"
      ]
     },
     "execution_count": 6,
     "metadata": {},
     "output_type": "execute_result"
    }
   ],
   "source": [
    "#Encoding categorical variable data\n",
    "labelencoder_X_2=LabelEncoder()\n",
    "X[:,2]=labelencoder_X_2.fit_transform(X[:,2])\n",
    "X"
   ]
  },
  {
   "cell_type": "code",
   "execution_count": 7,
   "metadata": {
    "collapsed": false
   },
   "outputs": [
    {
     "data": {
      "text/plain": [
       "array([[1.0000000e+00, 0.0000000e+00, 0.0000000e+00, ..., 1.0000000e+00,\n",
       "        1.0000000e+00, 1.0134888e+05],\n",
       "       [0.0000000e+00, 0.0000000e+00, 1.0000000e+00, ..., 0.0000000e+00,\n",
       "        1.0000000e+00, 1.1254258e+05],\n",
       "       [1.0000000e+00, 0.0000000e+00, 0.0000000e+00, ..., 1.0000000e+00,\n",
       "        0.0000000e+00, 1.1393157e+05],\n",
       "       ...,\n",
       "       [1.0000000e+00, 0.0000000e+00, 0.0000000e+00, ..., 0.0000000e+00,\n",
       "        1.0000000e+00, 4.2085580e+04],\n",
       "       [0.0000000e+00, 1.0000000e+00, 0.0000000e+00, ..., 1.0000000e+00,\n",
       "        0.0000000e+00, 9.2888520e+04],\n",
       "       [1.0000000e+00, 0.0000000e+00, 0.0000000e+00, ..., 1.0000000e+00,\n",
       "        0.0000000e+00, 3.8190780e+04]])"
      ]
     },
     "execution_count": 7,
     "metadata": {},
     "output_type": "execute_result"
    }
   ],
   "source": [
    "onehotencoder=OneHotEncoder(categorical_features=[1])\n",
    "X=onehotencoder.fit_transform(X).toarray()\n",
    "X"
   ]
  },
  {
   "cell_type": "code",
   "execution_count": 8,
   "metadata": {
    "collapsed": false
   },
   "outputs": [
    {
     "data": {
      "text/plain": [
       "array([[0.0000000e+00, 0.0000000e+00, 6.1900000e+02, ..., 1.0000000e+00,\n",
       "        1.0000000e+00, 1.0134888e+05],\n",
       "       [0.0000000e+00, 1.0000000e+00, 6.0800000e+02, ..., 0.0000000e+00,\n",
       "        1.0000000e+00, 1.1254258e+05],\n",
       "       [0.0000000e+00, 0.0000000e+00, 5.0200000e+02, ..., 1.0000000e+00,\n",
       "        0.0000000e+00, 1.1393157e+05],\n",
       "       ...,\n",
       "       [0.0000000e+00, 0.0000000e+00, 7.0900000e+02, ..., 0.0000000e+00,\n",
       "        1.0000000e+00, 4.2085580e+04],\n",
       "       [1.0000000e+00, 0.0000000e+00, 7.7200000e+02, ..., 1.0000000e+00,\n",
       "        0.0000000e+00, 9.2888520e+04],\n",
       "       [0.0000000e+00, 0.0000000e+00, 7.9200000e+02, ..., 1.0000000e+00,\n",
       "        0.0000000e+00, 3.8190780e+04]])"
      ]
     },
     "execution_count": 8,
     "metadata": {},
     "output_type": "execute_result"
    }
   ],
   "source": [
    "#Dummy variable trap for country column - remove one of three labels\n",
    "X=X[:,1:]\n",
    "X"
   ]
  },
  {
   "cell_type": "markdown",
   "metadata": {},
   "source": [
    "### Split data into training and validation set"
   ]
  },
  {
   "cell_type": "code",
   "execution_count": 9,
   "metadata": {
    "collapsed": true
   },
   "outputs": [],
   "source": [
    "# Splitting the dataset into the Training set and Test set\n",
    "X_train, X_test, y_train, y_test = train_test_split(X, y, test_size = 0.2, random_state = 0)"
   ]
  },
  {
   "cell_type": "code",
   "execution_count": 10,
   "metadata": {
    "collapsed": false
   },
   "outputs": [
    {
     "data": {
      "text/plain": [
       "array([[-0.5698444 ,  1.74309049,  0.16958176, ...,  0.64259497,\n",
       "        -1.03227043,  1.10643166],\n",
       "       [ 1.75486502, -0.57369368, -2.30455945, ...,  0.64259497,\n",
       "         0.9687384 , -0.74866447],\n",
       "       [-0.5698444 , -0.57369368, -1.19119591, ...,  0.64259497,\n",
       "        -1.03227043,  1.48533467],\n",
       "       ...,\n",
       "       [-0.5698444 , -0.57369368,  0.9015152 , ...,  0.64259497,\n",
       "        -1.03227043,  1.41231994],\n",
       "       [-0.5698444 ,  1.74309049, -0.62420521, ...,  0.64259497,\n",
       "         0.9687384 ,  0.84432121],\n",
       "       [ 1.75486502, -0.57369368, -0.28401079, ...,  0.64259497,\n",
       "        -1.03227043,  0.32472465]])"
      ]
     },
     "execution_count": 10,
     "metadata": {},
     "output_type": "execute_result"
    }
   ],
   "source": [
    "# Feature Scaling\n",
    "sc = StandardScaler()\n",
    "X_train = sc.fit_transform(X_train)\n",
    "X_test = sc.transform(X_test)\n",
    "X_train"
   ]
  },
  {
   "cell_type": "code",
   "execution_count": 11,
   "metadata": {
    "collapsed": false
   },
   "outputs": [
    {
     "data": {
      "text/plain": [
       "(8000, 11)"
      ]
     },
     "execution_count": 11,
     "metadata": {},
     "output_type": "execute_result"
    }
   ],
   "source": [
    "X_train.shape"
   ]
  },
  {
   "cell_type": "markdown",
   "metadata": {},
   "source": [
    "## Training ANN model"
   ]
  },
  {
   "cell_type": "code",
   "execution_count": 12,
   "metadata": {
    "collapsed": true
   },
   "outputs": [],
   "source": [
    "classifier=Sequential()"
   ]
  },
  {
   "cell_type": "code",
   "execution_count": 13,
   "metadata": {
    "collapsed": false
   },
   "outputs": [],
   "source": [
    "#Adding the input layer and the first hidden layer\n",
    "#Calculate output dim value by taking avg. of number of variables of input(11) and output(1)\n",
    "classifier.add(Dense(units=6,kernel_initializer='uniform',activation='relu',input_dim=11))"
   ]
  },
  {
   "cell_type": "code",
   "execution_count": 14,
   "metadata": {
    "collapsed": false
   },
   "outputs": [],
   "source": [
    "#Adding the second hidden layer\n",
    "#Calculate output dim value by taking avg. of number of variables of input(11) and output(1)\n",
    "classifier.add(Dense(units=6,kernel_initializer='uniform',activation='relu'))"
   ]
  },
  {
   "cell_type": "code",
   "execution_count": 15,
   "metadata": {
    "collapsed": false
   },
   "outputs": [],
   "source": [
    "#Adding the second hidden layer\n",
    "#Calculate output dim value by taking avg. of number of variables of input(11) and output(1)\n",
    "#Choose softmax activation function while dealing with dependent variable of more than two categories\n",
    "classifier.add(Dense(units=1,kernel_initializer='uniform',activation='sigmoid'))"
   ]
  },
  {
   "cell_type": "code",
   "execution_count": 16,
   "metadata": {
    "collapsed": true
   },
   "outputs": [],
   "source": [
    "# Compile the ANN network\n",
    "#Use category_crossentropy for more than 2 categories of dependent variables\n",
    "classifier.compile(optimizer='adam',loss='binary_crossentropy',metrics=['accuracy'])"
   ]
  },
  {
   "cell_type": "code",
   "execution_count": 17,
   "metadata": {
    "collapsed": false,
    "scrolled": true
   },
   "outputs": [
    {
     "name": "stdout",
     "output_type": "stream",
     "text": [
      "Epoch 1/100\n",
      "8000/8000 [==============================] - 2s 215us/step - loss: 0.4919 - acc: 0.7982\n",
      "Epoch 2/100\n",
      "8000/8000 [==============================] - 1s 165us/step - loss: 0.4108 - acc: 0.8226\n",
      "Epoch 3/100\n",
      "8000/8000 [==============================] - 2s 192us/step - loss: 0.3965 - acc: 0.8276\n",
      "Epoch 4/100\n",
      "8000/8000 [==============================] - 1s 173us/step - loss: 0.3867 - acc: 0.8305\n",
      "Epoch 5/100\n",
      "8000/8000 [==============================] - 1s 158us/step - loss: 0.3799 - acc: 0.8309\n",
      "Epoch 6/100\n",
      "8000/8000 [==============================] - 1s 163us/step - loss: 0.3748 - acc: 0.8409\n",
      "Epoch 7/100\n",
      "8000/8000 [==============================] - 1s 154us/step - loss: 0.3707 - acc: 0.8464\n",
      "Epoch 8/100\n",
      "8000/8000 [==============================] - 1s 162us/step - loss: 0.3680 - acc: 0.8479\n",
      "Epoch 9/100\n",
      "8000/8000 [==============================] - 1s 160us/step - loss: 0.3655 - acc: 0.8496\n",
      "Epoch 10/100\n",
      "8000/8000 [==============================] - 1s 157us/step - loss: 0.3627 - acc: 0.8536\n",
      "Epoch 11/100\n",
      "8000/8000 [==============================] - 1s 163us/step - loss: 0.3601 - acc: 0.8544\n",
      "Epoch 12/100\n",
      "8000/8000 [==============================] - 1s 180us/step - loss: 0.3593 - acc: 0.8516\n",
      "Epoch 13/100\n",
      "8000/8000 [==============================] - 1s 161us/step - loss: 0.3574 - acc: 0.8525\n",
      "Epoch 14/100\n",
      "8000/8000 [==============================] - 1s 160us/step - loss: 0.3563 - acc: 0.8559\n",
      "Epoch 15/100\n",
      "8000/8000 [==============================] - 1s 187us/step - loss: 0.3554 - acc: 0.8542\n",
      "Epoch 16/100\n",
      "8000/8000 [==============================] - 1s 173us/step - loss: 0.3549 - acc: 0.8555\n",
      "Epoch 17/100\n",
      "8000/8000 [==============================] - 1s 168us/step - loss: 0.3541 - acc: 0.8581\n",
      "Epoch 18/100\n",
      "8000/8000 [==============================] - 1s 166us/step - loss: 0.3536 - acc: 0.8556\n",
      "Epoch 19/100\n",
      "8000/8000 [==============================] - 1s 160us/step - loss: 0.3528 - acc: 0.8571\n",
      "Epoch 20/100\n",
      "8000/8000 [==============================] - 1s 154us/step - loss: 0.3524 - acc: 0.8582\n",
      "Epoch 21/100\n",
      "8000/8000 [==============================] - 1s 163us/step - loss: 0.3512 - acc: 0.8560\n",
      "Epoch 22/100\n",
      "8000/8000 [==============================] - 1s 157us/step - loss: 0.3522 - acc: 0.8546\n",
      "Epoch 23/100\n",
      "8000/8000 [==============================] - 1s 157us/step - loss: 0.3508 - acc: 0.8549\n",
      "Epoch 24/100\n",
      "8000/8000 [==============================] - 1s 156us/step - loss: 0.3503 - acc: 0.8581\n",
      "Epoch 25/100\n",
      "8000/8000 [==============================] - 1s 167us/step - loss: 0.3500 - acc: 0.8565\n",
      "Epoch 26/100\n",
      "8000/8000 [==============================] - 1s 162us/step - loss: 0.3495 - acc: 0.8581\n",
      "Epoch 27/100\n",
      "8000/8000 [==============================] - 1s 156us/step - loss: 0.3493 - acc: 0.8571\n",
      "Epoch 28/100\n",
      "8000/8000 [==============================] - 1s 158us/step - loss: 0.3486 - acc: 0.8555\n",
      "Epoch 29/100\n",
      "8000/8000 [==============================] - 1s 162us/step - loss: 0.3489 - acc: 0.8575\n",
      "Epoch 30/100\n",
      "8000/8000 [==============================] - 1s 166us/step - loss: 0.3482 - acc: 0.8576\n",
      "Epoch 31/100\n",
      "8000/8000 [==============================] - 1s 187us/step - loss: 0.3474 - acc: 0.8574\n",
      "Epoch 32/100\n",
      "8000/8000 [==============================] - 1s 168us/step - loss: 0.3462 - acc: 0.8562\n",
      "Epoch 33/100\n",
      "8000/8000 [==============================] - 1s 163us/step - loss: 0.3459 - acc: 0.8577\n",
      "Epoch 34/100\n",
      "8000/8000 [==============================] - 1s 161us/step - loss: 0.3455 - acc: 0.8587\n",
      "Epoch 35/100\n",
      "8000/8000 [==============================] - 1s 162us/step - loss: 0.3456 - acc: 0.8581\n",
      "Epoch 36/100\n",
      "8000/8000 [==============================] - 1s 159us/step - loss: 0.3456 - acc: 0.8590\n",
      "Epoch 37/100\n",
      "8000/8000 [==============================] - 1s 162us/step - loss: 0.3450 - acc: 0.8605\n",
      "Epoch 38/100\n",
      "8000/8000 [==============================] - 1s 182us/step - loss: 0.3453 - acc: 0.8589\n",
      "Epoch 39/100\n",
      "8000/8000 [==============================] - 1s 168us/step - loss: 0.3447 - acc: 0.8576\n",
      "Epoch 40/100\n",
      "8000/8000 [==============================] - 1s 168us/step - loss: 0.3441 - acc: 0.8590\n",
      "Epoch 41/100\n",
      "8000/8000 [==============================] - 1s 165us/step - loss: 0.3440 - acc: 0.8579\n",
      "Epoch 42/100\n",
      "8000/8000 [==============================] - 1s 162us/step - loss: 0.3443 - acc: 0.8587\n",
      "Epoch 43/100\n",
      "8000/8000 [==============================] - 1s 167us/step - loss: 0.3424 - acc: 0.8586\n",
      "Epoch 44/100\n",
      "8000/8000 [==============================] - 1s 182us/step - loss: 0.3428 - acc: 0.8604\n",
      "Epoch 45/100\n",
      "8000/8000 [==============================] - 1s 164us/step - loss: 0.3440 - acc: 0.8592\n",
      "Epoch 46/100\n",
      "8000/8000 [==============================] - 1s 163us/step - loss: 0.3428 - acc: 0.8604\n",
      "Epoch 47/100\n",
      "8000/8000 [==============================] - 1s 161us/step - loss: 0.3416 - acc: 0.8614\n",
      "Epoch 48/100\n",
      "8000/8000 [==============================] - 1s 162us/step - loss: 0.3414 - acc: 0.8586\n",
      "Epoch 49/100\n",
      "8000/8000 [==============================] - 2s 193us/step - loss: 0.3410 - acc: 0.8602\n",
      "Epoch 50/100\n",
      "8000/8000 [==============================] - 1s 185us/step - loss: 0.3403 - acc: 0.8602\n",
      "Epoch 51/100\n",
      "8000/8000 [==============================] - 1s 166us/step - loss: 0.3408 - acc: 0.8616\n",
      "Epoch 52/100\n",
      "8000/8000 [==============================] - 1s 171us/step - loss: 0.3399 - acc: 0.8612\n",
      "Epoch 53/100\n",
      "8000/8000 [==============================] - 1s 159us/step - loss: 0.3399 - acc: 0.8596\n",
      "Epoch 54/100\n",
      "8000/8000 [==============================] - 1s 161us/step - loss: 0.3387 - acc: 0.8622\n",
      "Epoch 55/100\n",
      "8000/8000 [==============================] - 1s 160us/step - loss: 0.3387 - acc: 0.8612\n",
      "Epoch 56/100\n",
      "8000/8000 [==============================] - 1s 164us/step - loss: 0.3386 - acc: 0.8602\n",
      "Epoch 57/100\n",
      "8000/8000 [==============================] - 1s 168us/step - loss: 0.3387 - acc: 0.8617\n",
      "Epoch 58/100\n",
      "8000/8000 [==============================] - 1s 161us/step - loss: 0.3389 - acc: 0.8630\n",
      "Epoch 59/100\n",
      "8000/8000 [==============================] - 1s 168us/step - loss: 0.3384 - acc: 0.8612\n",
      "Epoch 60/100\n",
      "8000/8000 [==============================] - 2s 189us/step - loss: 0.3387 - acc: 0.8599\n",
      "Epoch 61/100\n",
      "8000/8000 [==============================] - 1s 171us/step - loss: 0.3395 - acc: 0.8612\n",
      "Epoch 62/100\n",
      "8000/8000 [==============================] - 1s 159us/step - loss: 0.3390 - acc: 0.8600\n",
      "Epoch 63/100\n",
      "8000/8000 [==============================] - 1s 158us/step - loss: 0.3384 - acc: 0.8619\n",
      "Epoch 64/100\n",
      "8000/8000 [==============================] - 1s 159us/step - loss: 0.3382 - acc: 0.8615\n",
      "Epoch 65/100\n",
      "8000/8000 [==============================] - 1s 159us/step - loss: 0.3376 - acc: 0.8581\n",
      "Epoch 66/100\n",
      "8000/8000 [==============================] - 1s 165us/step - loss: 0.3373 - acc: 0.8625\n",
      "Epoch 67/100\n",
      "8000/8000 [==============================] - 1s 165us/step - loss: 0.3379 - acc: 0.8591\n",
      "Epoch 68/100\n",
      "8000/8000 [==============================] - 1s 166us/step - loss: 0.3379 - acc: 0.8601\n",
      "Epoch 69/100\n",
      "8000/8000 [==============================] - 1s 161us/step - loss: 0.3380 - acc: 0.8606\n",
      "Epoch 70/100\n",
      "8000/8000 [==============================] - 1s 161us/step - loss: 0.3361 - acc: 0.8625\n",
      "Epoch 71/100\n",
      "8000/8000 [==============================] - 1s 158us/step - loss: 0.3376 - acc: 0.8607\n",
      "Epoch 72/100\n",
      "8000/8000 [==============================] - 1s 158us/step - loss: 0.3371 - acc: 0.8601\n",
      "Epoch 73/100\n",
      "8000/8000 [==============================] - 1s 158us/step - loss: 0.3374 - acc: 0.8636\n",
      "Epoch 74/100\n",
      "8000/8000 [==============================] - 1s 176us/step - loss: 0.3367 - acc: 0.8629\n",
      "Epoch 75/100\n",
      "8000/8000 [==============================] - 2s 208us/step - loss: 0.3364 - acc: 0.8601\n",
      "Epoch 76/100\n",
      "8000/8000 [==============================] - 1s 176us/step - loss: 0.3372 - acc: 0.8606\n",
      "Epoch 77/100\n",
      "8000/8000 [==============================] - 1s 175us/step - loss: 0.3371 - acc: 0.8609\n",
      "Epoch 78/100\n",
      "8000/8000 [==============================] - 2s 192us/step - loss: 0.3364 - acc: 0.8624\n",
      "Epoch 79/100\n",
      "8000/8000 [==============================] - 1s 177us/step - loss: 0.3368 - acc: 0.8637\n",
      "Epoch 80/100\n",
      "8000/8000 [==============================] - 1s 175us/step - loss: 0.3371 - acc: 0.8607\n",
      "Epoch 81/100\n",
      "8000/8000 [==============================] - 1s 179us/step - loss: 0.3369 - acc: 0.8617\n",
      "Epoch 82/100\n",
      "8000/8000 [==============================] - 1s 185us/step - loss: 0.3376 - acc: 0.8629\n",
      "Epoch 83/100\n",
      "8000/8000 [==============================] - 1s 174us/step - loss: 0.3381 - acc: 0.8595\n",
      "Epoch 84/100\n",
      "8000/8000 [==============================] - 1s 173us/step - loss: 0.3378 - acc: 0.8620\n",
      "Epoch 85/100\n",
      "8000/8000 [==============================] - 1s 162us/step - loss: 0.3367 - acc: 0.8607\n",
      "Epoch 86/100\n",
      "8000/8000 [==============================] - 1s 161us/step - loss: 0.3365 - acc: 0.8612\n",
      "Epoch 87/100\n",
      "8000/8000 [==============================] - 1s 160us/step - loss: 0.3369 - acc: 0.8602\n",
      "Epoch 88/100\n",
      "8000/8000 [==============================] - 1s 160us/step - loss: 0.3366 - acc: 0.8619\n",
      "Epoch 89/100\n",
      "8000/8000 [==============================] - 1s 161us/step - loss: 0.3373 - acc: 0.8622\n",
      "Epoch 90/100\n",
      "8000/8000 [==============================] - 1s 163us/step - loss: 0.3370 - acc: 0.8626\n",
      "Epoch 91/100\n",
      "8000/8000 [==============================] - 1s 164us/step - loss: 0.3368 - acc: 0.8609\n",
      "Epoch 92/100\n",
      "8000/8000 [==============================] - 1s 162us/step - loss: 0.3367 - acc: 0.8589\n",
      "Epoch 93/100\n",
      "8000/8000 [==============================] - 1s 167us/step - loss: 0.3362 - acc: 0.8619\n",
      "Epoch 94/100\n",
      "8000/8000 [==============================] - 1s 173us/step - loss: 0.3365 - acc: 0.8605\n",
      "Epoch 95/100\n",
      "8000/8000 [==============================] - 1s 187us/step - loss: 0.3378 - acc: 0.8610\n",
      "Epoch 96/100\n",
      "8000/8000 [==============================] - 1s 169us/step - loss: 0.3355 - acc: 0.8610\n",
      "Epoch 97/100\n",
      "8000/8000 [==============================] - 1s 174us/step - loss: 0.3369 - acc: 0.8622\n",
      "Epoch 98/100\n",
      "8000/8000 [==============================] - 1s 166us/step - loss: 0.3368 - acc: 0.8629\n",
      "Epoch 99/100\n",
      "8000/8000 [==============================] - 1s 165us/step - loss: 0.3364 - acc: 0.8605\n",
      "Epoch 100/100\n",
      "8000/8000 [==============================] - 1s 161us/step - loss: 0.3366 - acc: 0.8601\n"
     ]
    },
    {
     "data": {
      "text/plain": [
       "<keras.callbacks.History at 0x2bb2ba58ba8>"
      ]
     },
     "execution_count": 17,
     "metadata": {},
     "output_type": "execute_result"
    }
   ],
   "source": [
    "# Predicting the test results\n",
    "#Using gradient descent\n",
    "classifier.fit(X_train,y_train, batch_size=10, epochs=100)"
   ]
  },
  {
   "cell_type": "markdown",
   "metadata": {},
   "source": [
    "## Measure accuracy of the model"
   ]
  },
  {
   "cell_type": "code",
   "execution_count": 18,
   "metadata": {
    "collapsed": false
   },
   "outputs": [
    {
     "data": {
      "text/plain": [
       "array([[False],\n",
       "       [False],\n",
       "       [False],\n",
       "       ...,\n",
       "       [False],\n",
       "       [False],\n",
       "       [False]])"
      ]
     },
     "execution_count": 18,
     "metadata": {},
     "output_type": "execute_result"
    }
   ],
   "source": [
    "#Set threshold to map values to specific bins\n",
    "y_pred=classifier.predict(X_test)\n",
    "y_pred = (y_pred>0.5)\n",
    "y_pred"
   ]
  },
  {
   "cell_type": "code",
   "execution_count": 19,
   "metadata": {
    "collapsed": false
   },
   "outputs": [],
   "source": [
    "#Make the confusion matrix\n",
    "cm=confusion_matrix(y_test,y_pred)"
   ]
  },
  {
   "cell_type": "code",
   "execution_count": 20,
   "metadata": {
    "collapsed": false
   },
   "outputs": [
    {
     "data": {
      "text/plain": [
       "array([[1551,   44],\n",
       "       [ 220,  185]], dtype=int64)"
      ]
     },
     "execution_count": 20,
     "metadata": {},
     "output_type": "execute_result"
    }
   ],
   "source": [
    "cm"
   ]
  },
  {
   "cell_type": "code",
   "execution_count": 23,
   "metadata": {
    "collapsed": false
   },
   "outputs": [
    {
     "data": {
      "text/plain": [
       "185"
      ]
     },
     "execution_count": 23,
     "metadata": {},
     "output_type": "execute_result"
    }
   ],
   "source": [
    "cm[1][1]"
   ]
  },
  {
   "cell_type": "code",
   "execution_count": 24,
   "metadata": {
    "collapsed": false
   },
   "outputs": [
    {
     "data": {
      "text/plain": [
       "0.868"
      ]
     },
     "execution_count": 24,
     "metadata": {},
     "output_type": "execute_result"
    }
   ],
   "source": [
    "# accuracy= (TP+TN)/total count\n",
    "accuracy=(cm[0][0]+cm[1][1])/2000\n",
    "accuracy"
   ]
  },
  {
   "cell_type": "markdown",
   "metadata": {
    "collapsed": true
   },
   "source": [
    "### As can be seen, the network converged around 87% accuracy which is not bad considering all the elementary parameter values and basic models we've used. Will improve the model in next few iterations "
   ]
  }
 ],
 "metadata": {
  "anaconda-cloud": {},
  "kernelspec": {
   "display_name": "Python [conda root]",
   "language": "python",
   "name": "conda-root-py"
  },
  "language_info": {
   "codemirror_mode": {
    "name": "ipython",
    "version": 3
   },
   "file_extension": ".py",
   "mimetype": "text/x-python",
   "name": "python",
   "nbconvert_exporter": "python",
   "pygments_lexer": "ipython3",
   "version": "3.5.5"
  }
 },
 "nbformat": 4,
 "nbformat_minor": 1
}
