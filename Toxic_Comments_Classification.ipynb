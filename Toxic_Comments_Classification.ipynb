{
 "cells": [
  {
   "cell_type": "markdown",
   "metadata": {},
   "source": [
    "# Import the libraries"
   ]
  },
  {
   "cell_type": "code",
   "execution_count": 1,
   "metadata": {
    "collapsed": false
   },
   "outputs": [
    {
     "name": "stderr",
     "output_type": "stream",
     "text": [
      "C:\\Program Files\\Anaconda3\\lib\\site-packages\\sklearn\\ensemble\\weight_boosting.py:29: DeprecationWarning: numpy.core.umath_tests is an internal NumPy module and should not be imported. It will be removed in a future NumPy release.\n",
      "  from numpy.core.umath_tests import inner1d\n",
      "C:\\Program Files\\Anaconda3\\lib\\site-packages\\gensim\\utils.py:1197: UserWarning: detected Windows; aliasing chunkize to chunkize_serial\n",
      "  warnings.warn(\"detected Windows; aliasing chunkize to chunkize_serial\")\n",
      "Using TensorFlow backend.\n"
     ]
    }
   ],
   "source": [
    "from glove import Corpus, Glove\n",
    "import pandas as pd\n",
    "from nltk.corpus import stopwords\n",
    "from nltk.tokenize import word_tokenize \n",
    "import datetime,time\n",
    "from flashtext.keyword import KeywordProcessor\n",
    "from nltk.stem import WordNetLemmatizer\n",
    "from string import punctuation\n",
    "import re\n",
    "import pandas as pd\n",
    "import numpy as np\n",
    "import string\n",
    "import multiprocessing\n",
    "from nltk.corpus import stopwords\n",
    "from flashtext.keyword import KeywordProcessor\n",
    "from sklearn.model_selection import train_test_split\n",
    "from sklearn import metrics\n",
    "\n",
    "# libraries for dataset preparation, feature engineering, model training \n",
    "from sklearn import model_selection, preprocessing, linear_model, naive_bayes, metrics, svm\n",
    "from sklearn.feature_extraction.text import TfidfVectorizer, CountVectorizer\n",
    "from sklearn import decomposition, ensemble\n",
    "#from utils.language_models import WordVectorEmbedding\n",
    "from gensim.test.utils import datapath, get_tmpfile\n",
    "#import pandas, xgboost, numpy, textblob, string\n",
    "from keras.preprocessing import text, sequence\n",
    "from keras import layers, models, optimizers\n",
    "# Keras\n",
    "from keras.preprocessing.text import Tokenizer\n",
    "from keras.preprocessing.sequence import pad_sequences\n",
    "from keras.models import Sequential\n",
    "from keras.layers import Dense, Flatten, LSTM, Conv1D, MaxPooling1D, Dropout, Activation\n",
    "from keras.layers.embeddings import Embedding\n",
    "from keras.utils import to_categorical\n",
    "from sklearn import preprocessing\n",
    "from keras.layers import Input,GlobalMaxPooling1D\n",
    "from keras.models import Model"
   ]
  },
  {
   "cell_type": "markdown",
   "metadata": {},
   "source": [
    "## Kaggle challenge link: \n",
    "https://www.kaggle.com/c/jigsaw-toxic-comment-classification-challenge"
   ]
  },
  {
   "cell_type": "code",
   "execution_count": 19,
   "metadata": {
    "collapsed": true
   },
   "outputs": [],
   "source": [
    "#Some config\n",
    "MAX_SEQUENCE_LENGTH=100\n",
    "#Fact: An average native english speaing person remembers 20k words appx.\n",
    "MAX_VOCAB_SIZE=20000\n",
    "EMBEDDING_DIM=100\n",
    "VALIDATION_SPLIT=0.2\n",
    "BATCH_SIZE=120\n",
    "EPOCHS=10"
   ]
  },
  {
   "cell_type": "code",
   "execution_count": 3,
   "metadata": {
    "collapsed": false
   },
   "outputs": [
    {
     "name": "stdout",
     "output_type": "stream",
     "text": [
      "Found 400000 word vectors\n"
     ]
    }
   ],
   "source": [
    "#Load in pre-trained vectors\n",
    "embeddings_index={}\n",
    "with open(os.path.join('../glove.6B.100d.txt'),encoding='utf8') as f:\n",
    "    #Space separated text file\n",
    "    #word1 vec[0] vec[1] vec[2]\n",
    "    for line in f:\n",
    "        values=line.split()\n",
    "        word=values[0]\n",
    "        vec=np.asarray(values[1:],dtype='float32')\n",
    "        embeddings_index[word]=vec\n",
    "print('Found {} word vectors'.format(len(embeddings_index)))"
   ]
  },
  {
   "cell_type": "markdown",
   "metadata": {},
   "source": [
    "## Import dataset"
   ]
  },
  {
   "cell_type": "code",
   "execution_count": 4,
   "metadata": {
    "collapsed": false
   },
   "outputs": [
    {
     "name": "stdout",
     "output_type": "stream",
     "text": [
      "Loading comments\n"
     ]
    },
    {
     "data": {
      "text/html": [
       "<div>\n",
       "<style scoped>\n",
       "    .dataframe tbody tr th:only-of-type {\n",
       "        vertical-align: middle;\n",
       "    }\n",
       "\n",
       "    .dataframe tbody tr th {\n",
       "        vertical-align: top;\n",
       "    }\n",
       "\n",
       "    .dataframe thead th {\n",
       "        text-align: right;\n",
       "    }\n",
       "</style>\n",
       "<table border=\"1\" class=\"dataframe\">\n",
       "  <thead>\n",
       "    <tr style=\"text-align: right;\">\n",
       "      <th></th>\n",
       "      <th>id</th>\n",
       "      <th>comment_text</th>\n",
       "      <th>toxic</th>\n",
       "      <th>severe_toxic</th>\n",
       "      <th>obscene</th>\n",
       "      <th>threat</th>\n",
       "      <th>insult</th>\n",
       "      <th>identity_hate</th>\n",
       "    </tr>\n",
       "  </thead>\n",
       "  <tbody>\n",
       "    <tr>\n",
       "      <th>0</th>\n",
       "      <td>0000997932d777bf</td>\n",
       "      <td>Explanation\\nWhy the edits made under my usern...</td>\n",
       "      <td>0</td>\n",
       "      <td>0</td>\n",
       "      <td>0</td>\n",
       "      <td>0</td>\n",
       "      <td>0</td>\n",
       "      <td>0</td>\n",
       "    </tr>\n",
       "    <tr>\n",
       "      <th>1</th>\n",
       "      <td>000103f0d9cfb60f</td>\n",
       "      <td>D'aww! He matches this background colour I'm s...</td>\n",
       "      <td>0</td>\n",
       "      <td>0</td>\n",
       "      <td>0</td>\n",
       "      <td>0</td>\n",
       "      <td>0</td>\n",
       "      <td>0</td>\n",
       "    </tr>\n",
       "    <tr>\n",
       "      <th>2</th>\n",
       "      <td>000113f07ec002fd</td>\n",
       "      <td>Hey man, I'm really not trying to edit war. It...</td>\n",
       "      <td>0</td>\n",
       "      <td>0</td>\n",
       "      <td>0</td>\n",
       "      <td>0</td>\n",
       "      <td>0</td>\n",
       "      <td>0</td>\n",
       "    </tr>\n",
       "    <tr>\n",
       "      <th>3</th>\n",
       "      <td>0001b41b1c6bb37e</td>\n",
       "      <td>\"\\nMore\\nI can't make any real suggestions on ...</td>\n",
       "      <td>0</td>\n",
       "      <td>0</td>\n",
       "      <td>0</td>\n",
       "      <td>0</td>\n",
       "      <td>0</td>\n",
       "      <td>0</td>\n",
       "    </tr>\n",
       "    <tr>\n",
       "      <th>4</th>\n",
       "      <td>0001d958c54c6e35</td>\n",
       "      <td>You, sir, are my hero. Any chance you remember...</td>\n",
       "      <td>0</td>\n",
       "      <td>0</td>\n",
       "      <td>0</td>\n",
       "      <td>0</td>\n",
       "      <td>0</td>\n",
       "      <td>0</td>\n",
       "    </tr>\n",
       "  </tbody>\n",
       "</table>\n",
       "</div>"
      ],
      "text/plain": [
       "                 id                                       comment_text  toxic  \\\n",
       "0  0000997932d777bf  Explanation\\nWhy the edits made under my usern...      0   \n",
       "1  000103f0d9cfb60f  D'aww! He matches this background colour I'm s...      0   \n",
       "2  000113f07ec002fd  Hey man, I'm really not trying to edit war. It...      0   \n",
       "3  0001b41b1c6bb37e  \"\\nMore\\nI can't make any real suggestions on ...      0   \n",
       "4  0001d958c54c6e35  You, sir, are my hero. Any chance you remember...      0   \n",
       "\n",
       "   severe_toxic  obscene  threat  insult  identity_hate  \n",
       "0             0        0       0       0              0  \n",
       "1             0        0       0       0              0  \n",
       "2             0        0       0       0              0  \n",
       "3             0        0       0       0              0  \n",
       "4             0        0       0       0              0  "
      ]
     },
     "execution_count": 4,
     "metadata": {},
     "output_type": "execute_result"
    }
   ],
   "source": [
    "print('Loading comments')\n",
    "data=pd.read_csv('train.csv')\n",
    "sentences=data['comment_text'].fillna(\"DUMMY_VALUE\").values\n",
    "data.head()"
   ]
  },
  {
   "cell_type": "code",
   "execution_count": 5,
   "metadata": {
    "collapsed": false
   },
   "outputs": [
    {
     "name": "stdout",
     "output_type": "stream",
     "text": [
      "Max sequence length: 5000\n",
      "Min sequence length: 6\n",
      "Median sequence length : 205\n"
     ]
    }
   ],
   "source": [
    "possible_labels=['toxic','severe_toxic','obscene','threat','insult','identity_hate']\n",
    "targets=data[possible_labels].values\n",
    "\n",
    "print('Max sequence length: {}'.format(max(len(s) for s in sentences)))\n",
    "print('Min sequence length: {}'.format(min(len(s) for s in sentences)))\n",
    "s=sorted(len(s) for s in sentences)\n",
    "print('Median sequence length : {}'.format(s[len(s)//2]))"
   ]
  },
  {
   "cell_type": "code",
   "execution_count": 6,
   "metadata": {
    "collapsed": false
   },
   "outputs": [],
   "source": [
    "#Convert the sentences into integers\n",
    "tokenizer=Tokenizer(num_words=MAX_VOCAB_SIZE)\n",
    "tokenizer.fit_on_texts(sentences)\n",
    "sequences=tokenizer.texts_to_sequences(sentences)\n",
    "#sequences"
   ]
  },
  {
   "cell_type": "code",
   "execution_count": 7,
   "metadata": {
    "collapsed": false
   },
   "outputs": [
    {
     "name": "stdout",
     "output_type": "stream",
     "text": [
      "Found 210337 unique tokens\n"
     ]
    }
   ],
   "source": [
    "#Get Word->Integer mapping\n",
    "word2idx=tokenizer.word_index\n",
    "print('Found {} unique tokens'.format(len(word2idx)))"
   ]
  },
  {
   "cell_type": "code",
   "execution_count": 8,
   "metadata": {
    "collapsed": false
   },
   "outputs": [
    {
     "name": "stdout",
     "output_type": "stream",
     "text": [
      "Shape of data vectors : (159571, 100)\n"
     ]
    }
   ],
   "source": [
    "#Pad sequences to get a N x T Matrix\n",
    "data_sen=pad_sequences(sequences,maxlen=MAX_SEQUENCE_LENGTH)\n",
    "print('Shape of data vectors : {}'.format(data_sen.shape))"
   ]
  },
  {
   "cell_type": "code",
   "execution_count": 9,
   "metadata": {
    "collapsed": false
   },
   "outputs": [],
   "source": [
    "#Prepare embedding matrix\n",
    "# create a weight matrix for words in training docs\n",
    "#Use the min of these two to ensure if data vocabulary size < MAX_VOCAB_SIZE, we don't train 20000 vectors still\n",
    "num_words=min(MAX_VOCAB_SIZE,len(word2idx)+1)\n",
    "embedding_matrix = np.zeros((num_words, EMBEDDING_DIM))\n",
    "for word, index in tokenizer.word_index.items():\n",
    "    if index > num_words - 1:\n",
    "        break\n",
    "    else:\n",
    "        embedding_vector = embeddings_index.get(word)\n",
    "        if embedding_vector is not None:\n",
    "            embedding_matrix[index] = embedding_vector"
   ]
  },
  {
   "cell_type": "code",
   "execution_count": 10,
   "metadata": {
    "collapsed": true
   },
   "outputs": [],
   "source": [
    "embedding_layer=Embedding(num_words,\n",
    "                       EMBEDDING_DIM,\n",
    "                       weights=[embedding_matrix],\n",
    "                       input_length=MAX_SEQUENCE_LENGTH,\n",
    "                       trainable=False)"
   ]
  },
  {
   "cell_type": "code",
   "execution_count": 11,
   "metadata": {
    "collapsed": false
   },
   "outputs": [
    {
     "name": "stdout",
     "output_type": "stream",
     "text": [
      "Loaded 400000 word vectors.\n"
     ]
    }
   ],
   "source": [
    "#load pre trained vector\n",
    "#Using pretrained word vector\n",
    "pretrained_vector_path='../glove.6B.100d.txt'\n",
    "embeddings_index = dict()\n",
    "f = open(pretrained_vector_path,encoding='utf8')\n",
    "for line in f:\n",
    "    values = line.split()\n",
    "    word = values[0]\n",
    "    coefs = np.asarray(values[1:], dtype='float32')\n",
    "    embeddings_index[word] = coefs\n",
    "f.close()\n",
    "print('Loaded %s word vectors.' % len(embeddings_index))"
   ]
  },
  {
   "cell_type": "markdown",
   "metadata": {},
   "source": [
    "## Building the Model\n",
    "\n",
    "#### In some domains, such as natural language processing, it is common to use global max pooling. In some other domains, such as computer vision, it is common to use a max pooling that isn't global.\n",
    "\n",
    "###### Global max pooling = ordinary max pooling layer with pool size equals to the size of the input (minus filter size + 1, to be precise). You can see that MaxPooling1D takes a pool_length argument, whereas GlobalMaxPooling1D does not. It's defined as Global max pooling operation for temporal data.\n",
    "\n",
    "##### Conv1D convolution is faster, it works in the same way as Conv2D but assume a 1 dimension array that makes a multiplication with the elements. We would have used Conv2D had we been using CNNs for computer vision\n",
    "\n",
    "##### Conv1D : This layer creates a convolution kernel that is convolved with the layer input over a single spatial (or temporal) dimension to produce a tensor of outputs"
   ]
  },
  {
   "cell_type": "code",
   "execution_count": 12,
   "metadata": {
    "collapsed": false
   },
   "outputs": [
    {
     "name": "stdout",
     "output_type": "stream",
     "text": [
      "WARNING:tensorflow:From C:\\Program Files\\Anaconda3\\lib\\site-packages\\tensorflow\\python\\framework\\op_def_library.py:263: colocate_with (from tensorflow.python.framework.ops) is deprecated and will be removed in a future version.\n",
      "Instructions for updating:\n",
      "Colocations handled automatically by placer.\n"
     ]
    }
   ],
   "source": [
    "# Train a 1D convent with global maxpooling\n",
    "input_=Input(shape=(MAX_SEQUENCE_LENGTH,))\n",
    "x=embedding_layer(input_)\n",
    "x=Conv1D(64,3,activation='relu')(x)\n",
    "x=MaxPooling1D(3)(x)\n",
    "x=Conv1D(64,3,activation='relu')(x)\n",
    "x=GlobalMaxPooling1D()(x)\n",
    "x=Dense(64,activation='relu')(x)\n",
    "output=Dense(len(possible_labels),activation='sigmoid')(x)"
   ]
  },
  {
   "cell_type": "code",
   "execution_count": 13,
   "metadata": {
    "collapsed": false
   },
   "outputs": [],
   "source": [
    "model=Model(input_,output)\n",
    "model.compile(loss='binary_crossentropy',optimizer='rmsprop',metrics=['accuracy'])"
   ]
  },
  {
   "cell_type": "code",
   "execution_count": 14,
   "metadata": {
    "collapsed": false
   },
   "outputs": [
    {
     "name": "stdout",
     "output_type": "stream",
     "text": [
      "Training Model with two convolution layers.. \n",
      "WARNING:tensorflow:From C:\\Program Files\\Anaconda3\\lib\\site-packages\\tensorflow\\python\\ops\\math_ops.py:3066: to_int32 (from tensorflow.python.ops.math_ops) is deprecated and will be removed in a future version.\n",
      "Instructions for updating:\n",
      "Use tf.cast instead.\n",
      "WARNING:tensorflow:From C:\\Program Files\\Anaconda3\\lib\\site-packages\\tensorflow\\python\\ops\\math_grad.py:102: div (from tensorflow.python.ops.math_ops) is deprecated and will be removed in a future version.\n",
      "Instructions for updating:\n",
      "Deprecated in favor of operator or tf.math.divide.\n",
      "Train on 127656 samples, validate on 31915 samples\n",
      "Epoch 1/10\n",
      "127656/127656 [==============================] - 66s 520us/step - loss: 0.4907 - acc: 0.9633 - val_loss: 0.3352 - val_acc: 0.9635\n",
      "Epoch 2/10\n",
      "127656/127656 [==============================] - 68s 534us/step - loss: 0.2506 - acc: 0.9633 - val_loss: 0.1916 - val_acc: 0.9635\n",
      "Epoch 3/10\n",
      "127656/127656 [==============================] - 62s 484us/step - loss: 0.1675 - acc: 0.9633 - val_loss: 0.1520 - val_acc: 0.9635\n",
      "Epoch 4/10\n",
      "127656/127656 [==============================] - 60s 469us/step - loss: 0.1465 - acc: 0.9633 - val_loss: 0.1428 - val_acc: 0.9635\n",
      "Epoch 5/10\n",
      "127656/127656 [==============================] - 70s 545us/step - loss: 0.1419 - acc: 0.9633 - val_loss: 0.1411 - val_acc: 0.9635\n",
      "Epoch 6/10\n",
      "127656/127656 [==============================] - 62s 483us/step - loss: 0.1412 - acc: 0.9633 - val_loss: 0.1409 - val_acc: 0.9635\n",
      "Epoch 7/10\n",
      "127656/127656 [==============================] - 62s 483us/step - loss: 0.1411 - acc: 0.9633 - val_loss: 0.1409 - val_acc: 0.9635\n",
      "Epoch 8/10\n",
      "127656/127656 [==============================] - 59s 461us/step - loss: 0.1411 - acc: 0.9633 - val_loss: 0.1409 - val_acc: 0.9635\n",
      "Epoch 9/10\n",
      "127656/127656 [==============================] - 65s 506us/step - loss: 0.1411 - acc: 0.9633 - val_loss: 0.1409 - val_acc: 0.9635\n",
      "Epoch 10/10\n",
      "127656/127656 [==============================] - 65s 510us/step - loss: 0.1411 - acc: 0.9633 - val_loss: 0.1409 - val_acc: 0.9635\n"
     ]
    }
   ],
   "source": [
    "print(\"Training Model with two convolution layers.. \")\n",
    "r=model.fit(data_sen,targets,batch_size=BATCH_SIZE,epochs=EPOCHS,validation_split=VALIDATION_SPLIT)"
   ]
  },
  {
   "cell_type": "code",
   "execution_count": 15,
   "metadata": {
    "collapsed": false
   },
   "outputs": [
    {
     "name": "stdout",
     "output_type": "stream",
     "text": [
      "WARNING:tensorflow:From C:\\Program Files\\Anaconda3\\lib\\site-packages\\keras\\backend\\tensorflow_backend.py:3445: calling dropout (from tensorflow.python.ops.nn_ops) with keep_prob is deprecated and will be removed in a future version.\n",
      "Instructions for updating:\n",
      "Please use `rate` instead of `keep_prob`. Rate should be set to `rate = 1 - keep_prob`.\n"
     ]
    }
   ],
   "source": [
    "model_glove = Sequential()\n",
    "model_glove.add(Embedding(input_dim=MAX_VOCAB_SIZE, output_dim=EMBEDDING_DIM, input_length=EMBEDDING_DIM, weights=[embedding_matrix], trainable=False))\n",
    "model_glove.add(Dropout(0.2))\n",
    "model_glove.add(Conv1D(64, 5, activation='relu'))\n",
    "model_glove.add(MaxPooling1D(pool_size=4))\n",
    "model_glove.add(LSTM(100))\n",
    "model_glove.add(Dense(6))\n",
    "model_glove.add(Activation('softmax'))\n",
    "model_glove.compile(loss='categorical_crossentropy', optimizer='adam', metrics=['accuracy'])"
   ]
  },
  {
   "cell_type": "code",
   "execution_count": 21,
   "metadata": {
    "collapsed": false
   },
   "outputs": [
    {
     "name": "stdout",
     "output_type": "stream",
     "text": [
      "Train on 127656 samples, validate on 31915 samples\n",
      "Epoch 1/10\n",
      "127656/127656 [==============================] - 191s 1ms/step - loss: 0.3014 - acc: 0.9942 - val_loss: 0.3017 - val_acc: 0.9941\n",
      "Epoch 2/10\n",
      "127656/127656 [==============================] - 190s 1ms/step - loss: 0.3012 - acc: 0.9942 - val_loss: 0.3010 - val_acc: 0.9941\n",
      "Epoch 3/10\n",
      "127656/127656 [==============================] - 189s 1ms/step - loss: 0.3012 - acc: 0.9942 - val_loss: 0.3009 - val_acc: 0.9941\n",
      "Epoch 4/10\n",
      "127656/127656 [==============================] - 193s 2ms/step - loss: 0.3012 - acc: 0.9942 - val_loss: 0.3010 - val_acc: 0.9941\n",
      "Epoch 5/10\n",
      "127656/127656 [==============================] - 176s 1ms/step - loss: 0.3012 - acc: 0.9942 - val_loss: 0.3011 - val_acc: 0.9941\n",
      "Epoch 6/10\n",
      "127656/127656 [==============================] - 176s 1ms/step - loss: 0.3012 - acc: 0.9942 - val_loss: 0.3016 - val_acc: 0.9941\n",
      "Epoch 7/10\n",
      "127656/127656 [==============================] - 198s 2ms/step - loss: 0.3011 - acc: 0.9942 - val_loss: 0.3015 - val_acc: 0.9941\n",
      "Epoch 8/10\n",
      "127656/127656 [==============================] - 199s 2ms/step - loss: 0.3011 - acc: 0.9942 - val_loss: 0.3009 - val_acc: 0.9941\n",
      "Epoch 9/10\n",
      "127656/127656 [==============================] - 190s 1ms/step - loss: 0.3011 - acc: 0.9942 - val_loss: 0.3011 - val_acc: 0.9941\n",
      "Epoch 10/10\n",
      "127656/127656 [==============================] - 193s 2ms/step - loss: 0.3011 - acc: 0.9942 - val_loss: 0.3009 - val_acc: 0.9941\n"
     ]
    }
   ],
   "source": [
    "r_glove=model_glove.fit(data_sen, targets, validation_split=VALIDATION_SPLIT, epochs = EPOCHS)"
   ]
  },
  {
   "cell_type": "code",
   "execution_count": null,
   "metadata": {
    "collapsed": true
   },
   "outputs": [],
   "source": [
    "mm = Sequential()\n",
    "mm.add(Embedding(input_dim=MAX_VOCAB_SIZE, output_dim=EMBEDDING_DIM, input_length=EMBEDDING_DIM, weights=[embedding_matrix], trainable=False))\n",
    "mm.add(Dropout(0.2))\n",
    "mm.add(Conv1D(64, 5, activation='relu'))\n",
    "mm.add(MaxPooling1D(pool_size=4))\n",
    "mm.add(LSTM(100))\n",
    "mm.add(Dense(6))\n",
    "mm.add(Activation('softmax'))\n",
    "mm.compile(loss='categorical_crossentropy', optimizer='adam', metrics=['accuracy'])"
   ]
  },
  {
   "cell_type": "code",
   "execution_count": 24,
   "metadata": {
    "collapsed": true
   },
   "outputs": [
    {
     "data": {
      "text/plain": [
       "{'acc': [0.9941796703641035,\n",
       "  0.9941796703641035,\n",
       "  0.9941796703641035,\n",
       "  0.9941796703641035,\n",
       "  0.9941796703641035,\n",
       "  0.9941796703641035,\n",
       "  0.9941796703641035,\n",
       "  0.9941796703641035,\n",
       "  0.9941796703641035,\n",
       "  0.9941796703641035],\n",
       " 'loss': [0.3014033645920947,\n",
       "  0.3012325596719179,\n",
       "  0.3012153624768297,\n",
       "  0.3011832482010423,\n",
       "  0.3011662701138161,\n",
       "  0.3011526834452452,\n",
       "  0.3011415583010514,\n",
       "  0.3011418332418097,\n",
       "  0.3011046326128867,\n",
       "  0.3011110898084178],\n",
       " 'val_acc': [0.9941093529688234,\n",
       "  0.9941093529688234,\n",
       "  0.9941093529688234,\n",
       "  0.9941093529688234,\n",
       "  0.9941093529688234,\n",
       "  0.9941093529688234,\n",
       "  0.9941093529688234,\n",
       "  0.9941093529688234,\n",
       "  0.9941093529688234,\n",
       "  0.9941093529688234],\n",
       " 'val_loss': [0.3017428184963778,\n",
       "  0.30103196908403074,\n",
       "  0.3008999856459988,\n",
       "  0.30102547185091916,\n",
       "  0.30110923507343207,\n",
       "  0.3015697125896996,\n",
       "  0.30151762661283227,\n",
       "  0.30086932463573474,\n",
       "  0.30106119584387303,\n",
       "  0.30091216376670826]}"
      ]
     },
     "execution_count": 24,
     "metadata": {},
     "output_type": "execute_result"
    }
   ],
   "source": [
    "r_glove.history"
   ]
  },
  {
   "cell_type": "code",
   "execution_count": 27,
   "metadata": {
    "collapsed": false
   },
   "outputs": [
    {
     "ename": "ImportError",
     "evalue": "No module named 'plt2'",
     "output_type": "error",
     "traceback": [
      "\u001b[0;31m---------------------------------------------------------------------------\u001b[0m",
      "\u001b[0;31mImportError\u001b[0m                               Traceback (most recent call last)",
      "\u001b[0;32m<ipython-input-27-957a975832f3>\u001b[0m in \u001b[0;36m<module>\u001b[0;34m()\u001b[0m\n\u001b[1;32m      2\u001b[0m \u001b[1;31m#model_glove\u001b[0m\u001b[1;33m\u001b[0m\u001b[1;33m\u001b[0m\u001b[0m\n\u001b[1;32m      3\u001b[0m \u001b[1;33m\u001b[0m\u001b[0m\n\u001b[0;32m----> 4\u001b[0;31m \u001b[1;32mimport\u001b[0m \u001b[0mmatplotlib\u001b[0m\u001b[1;33m.\u001b[0m\u001b[0mpyplot\u001b[0m \u001b[1;32mas\u001b[0m \u001b[0mplt\u001b[0m\u001b[1;33m,\u001b[0m\u001b[0mplt2\u001b[0m\u001b[1;33m\u001b[0m\u001b[0m\n\u001b[0m\u001b[1;32m      5\u001b[0m \u001b[1;32mfrom\u001b[0m \u001b[0msklearn\u001b[0m\u001b[1;33m.\u001b[0m\u001b[0mmetrics\u001b[0m \u001b[1;32mimport\u001b[0m \u001b[0mroc_auc_score\u001b[0m\u001b[1;33m\u001b[0m\u001b[0m\n\u001b[1;32m      6\u001b[0m \u001b[1;33m\u001b[0m\u001b[0m\n",
      "\u001b[0;31mImportError\u001b[0m: No module named 'plt2'"
     ]
    }
   ],
   "source": [
    "#Plot data\n",
    "#model_glove\n",
    "\n",
    "import matplotlib.pyplot as plt,plt2\n",
    "from sklearn.metrics import roc_auc_score\n",
    "\n",
    "plt.plot(r_glove.history['loss'],label='loss')\n",
    "plt.plot(r_glove.history['val_loss'],label='val_loss')\n",
    "plt.legend()\n",
    "plt.show()\n",
    "\n",
    "#Accuracies\n",
    "plt.plot(r_glove.history['acc'],label='acc')\n",
    "plt.plot(r_glove.history['val_acc'],label='val_acc')\n",
    "plt.legend()\n",
    "plt.show()\n",
    "\n",
    "#Plot mean AUC over each label\n",
    "p=model_glove.predict(data_sen)\n",
    "auc_list=[]\n",
    "for j in range(6):\n",
    "    auc=roc_auc_score(targets[:,j],p[:,j])\n",
    "    auc_list.append(auc)\n",
    "print(np.mean(auc_list))"
   ]
  },
  {
   "cell_type": "code",
   "execution_count": 23,
   "metadata": {
    "collapsed": false
   },
   "outputs": [
    {
     "data": {
      "image/png": "[encoded data removed]",
      "text/plain": [
       "<Figure size 432x288 with 1 Axes>"
      ]
     },
     "metadata": {},
     "output_type": "display_data"
    },
    {
     "data": {
      "image/png": "[encoded data removed]",
      "text/plain": [
       "<Figure size 432x288 with 1 Axes>"
      ]
     },
     "metadata": {},
     "output_type": "display_data"
    },
    {
     "name": "stdout",
     "output_type": "stream",
     "text": [
      "0.5000010762241561\n"
     ]
    }
   ],
   "source": [
    "#Plot data\n",
    "#r\n",
    "plt.plot(r.history['loss'],label='loss')\n",
    "plt.plot(r.history['val_loss'],label='val_loss')\n",
    "plt.legend()\n",
    "plt.show()\n",
    "\n",
    "#Accuracies\n",
    "plt.plot(r.history['acc'],label='acc')\n",
    "plt.plot(r.history['val_acc'],label='val_acc')\n",
    "plt.legend()\n",
    "plt.show()\n",
    "\n",
    "#Plot mean AUC over each label\n",
    "p=model.predict(data_sen)\n",
    "auc_list=[]\n",
    "for j in range(6):\n",
    "    auc=roc_auc_score(targets[:,j],p[:,j])\n",
    "    auc_list.append(auc)\n",
    "print(np.mean(auc_list))"
   ]
  },
  {
   "cell_type": "code",
   "execution_count": 29,
   "metadata": {
    "collapsed": false
   },
   "outputs": [
    {
     "name": "stdout",
     "output_type": "stream",
     "text": [
      "_________________________________________________________________\n",
      "Layer (type)                 Output Shape              Param #   \n",
      "=================================================================\n",
      "embedding_2 (Embedding)      (None, 100, 100)          2000000   \n",
      "_________________________________________________________________\n",
      "dropout_1 (Dropout)          (None, 100, 100)          0         \n",
      "_________________________________________________________________\n",
      "conv1d_3 (Conv1D)            (None, 96, 64)            32064     \n",
      "_________________________________________________________________\n",
      "max_pooling1d_2 (MaxPooling1 (None, 24, 64)            0         \n",
      "_________________________________________________________________\n",
      "lstm_1 (LSTM)                (None, 100)               66000     \n",
      "_________________________________________________________________\n",
      "dense_3 (Dense)              (None, 6)                 606       \n",
      "_________________________________________________________________\n",
      "activation_1 (Activation)    (None, 6)                 0         \n",
      "=================================================================\n",
      "Total params: 2,098,670\n",
      "Trainable params: 98,670\n",
      "Non-trainable params: 2,000,000\n",
      "_________________________________________________________________\n"
     ]
    }
   ],
   "source": [
    "model_glove.summary()"
   ]
  },
  {
   "cell_type": "code",
   "execution_count": 30,
   "metadata": {
    "collapsed": true
   },
   "outputs": [],
   "source": [
    "mm = Sequential()\n",
    "mm.add(Embedding(input_dim=MAX_VOCAB_SIZE, output_dim=EMBEDDING_DIM, input_length=EMBEDDING_DIM, weights=[embedding_matrix], trainable=False))\n",
    "mm.add(Dropout(0.2))\n",
    "#mm.add(Conv1D(64, 5, activation='relu'))\n",
    "#mm.add(MaxPooling1D(pool_size=4))\n",
    "mm.add(LSTM(100))\n",
    "mm.add(Dense(6))\n",
    "mm.add(Activation('softmax'))\n",
    "mm.compile(loss='categorical_crossentropy', optimizer='adam', metrics=['accuracy'])"
   ]
  },
  {
   "cell_type": "code",
   "execution_count": 31,
   "metadata": {
    "collapsed": false
   },
   "outputs": [
    {
     "name": "stdout",
     "output_type": "stream",
     "text": [
      "Train on 127656 samples, validate on 31915 samples\n",
      "Epoch 1/10\n",
      "127656/127656 [==============================] - 213s 2ms/step - loss: 0.3024 - acc: 0.9942 - val_loss: 0.3017 - val_acc: 0.9941\n",
      "Epoch 2/10\n",
      "127656/127656 [==============================] - 24775s 194ms/step - loss: 0.3014 - acc: 0.9942 - val_loss: 0.3010 - val_acc: 0.9941\n",
      "Epoch 3/10\n",
      "127656/127656 [==============================] - 219s 2ms/step - loss: 0.3012 - acc: 0.9942 - val_loss: 0.3012 - val_acc: 0.9941\n",
      "Epoch 4/10\n",
      "127656/127656 [==============================] - 188s 1ms/step - loss: 0.3011 - acc: 0.9942 - val_loss: 0.3010 - val_acc: 0.9941\n",
      "Epoch 5/10\n",
      "127656/127656 [==============================] - 175s 1ms/step - loss: 0.3012 - acc: 0.9942 - val_loss: 0.3011 - val_acc: 0.9941\n",
      "Epoch 6/10\n",
      "127656/127656 [==============================] - 184s 1ms/step - loss: 0.3011 - acc: 0.9942 - val_loss: 0.3009 - val_acc: 0.9941\n",
      "Epoch 7/10\n",
      "127656/127656 [==============================] - 183s 1ms/step - loss: 0.3010 - acc: 0.9942 - val_loss: 0.3011 - val_acc: 0.9941\n",
      "Epoch 8/10\n",
      "127656/127656 [==============================] - 199s 2ms/step - loss: 0.3011 - acc: 0.9942 - val_loss: 0.3012 - val_acc: 0.9941\n",
      "Epoch 9/10\n",
      "127656/127656 [==============================] - 187s 1ms/step - loss: 0.3011 - acc: 0.9942 - val_loss: 0.3011 - val_acc: 0.9941\n",
      "Epoch 10/10\n",
      "127656/127656 [==============================] - 166s 1ms/step - loss: 0.3011 - acc: 0.9942 - val_loss: 0.3010 - val_acc: 0.9941\n"
     ]
    },
    {
     "data": {
      "text/plain": [
       "<keras.callbacks.History at 0x1e2b1092c88>"
      ]
     },
     "execution_count": 31,
     "metadata": {},
     "output_type": "execute_result"
    }
   ],
   "source": [
    "mm.fit(data_sen, targets, validation_split=VALIDATION_SPLIT, epochs = EPOCHS)"
   ]
  },
  {
   "cell_type": "code",
   "execution_count": null,
   "metadata": {
    "collapsed": true
   },
   "outputs": [],
   "source": []
  }
 ],
 "metadata": {
  "anaconda-cloud": {},
  "kernelspec": {
   "display_name": "Python [default]",
   "language": "python",
   "name": "python3"
  },
  "language_info": {
   "codemirror_mode": {
    "name": "ipython",
    "version": 3
   },
   "file_extension": ".py",
   "mimetype": "text/x-python",
   "name": "python",
   "nbconvert_exporter": "python",
   "pygments_lexer": "ipython3",
   "version": "3.5.5"
  }
 },
 "nbformat": 4,
 "nbformat_minor": 1
}
