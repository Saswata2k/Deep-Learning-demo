{
 "cells": [
  {
   "cell_type": "code",
   "execution_count": 41,
   "metadata": {
    "collapsed": false
   },
   "outputs": [],
   "source": [
    "from keras.models import Model,Sequential\n",
    "from keras.layers import Input,LSTM,GRU,Dense\n",
    "import numpy as np\n",
    "import matplotlib.pyplot as plt"
   ]
  },
  {
   "cell_type": "code",
   "execution_count": 58,
   "metadata": {
    "collapsed": true
   },
   "outputs": [],
   "source": [
    "#Sequence length, Dimension and number of layers in networks\n",
    "T=8\n",
    "D=2\n",
    "M=3"
   ]
  },
  {
   "cell_type": "code",
   "execution_count": 59,
   "metadata": {
    "collapsed": false
   },
   "outputs": [],
   "source": [
    "X=np.random.randn(1,T,D)"
   ]
  },
  {
   "cell_type": "code",
   "execution_count": 46,
   "metadata": {
    "collapsed": false
   },
   "outputs": [
    {
     "data": {
      "text/plain": [
       "array([[[ 0.29676927,  0.86331342],\n",
       "        [ 0.06930363, -0.30486981],\n",
       "        [ 0.37774666,  2.01476524],\n",
       "        [ 0.21143511, -1.22713188],\n",
       "        [ 1.25714113,  0.12524541],\n",
       "        [ 0.88218724,  0.851079  ],\n",
       "        [ 0.13180002,  0.51425856],\n",
       "        [-0.77143822,  0.58198192]]])"
      ]
     },
     "execution_count": 46,
     "metadata": {},
     "output_type": "execute_result"
    }
   ],
   "source": [
    "X"
   ]
  },
  {
   "cell_type": "code",
   "execution_count": 113,
   "metadata": {
    "collapsed": true
   },
   "outputs": [],
   "source": [
    "#o = \n",
    "#h = Hidden State\n",
    "#c = Cell state\n",
    "#h and c --> represents final hidden state of LSYM"
   ]
  },
  {
   "cell_type": "code",
   "execution_count": 93,
   "metadata": {
    "collapsed": false
   },
   "outputs": [],
   "source": [
    "def lstm1():\n",
    "    input_=Input(shape=(T,D))\n",
    "    rnn=LSTM(M,return_state=True)\n",
    "    x=rnn(input_)\n",
    "    \n",
    "    model=Model(inputs=input_,output=x)\n",
    "    o, h, c=model.predict(X)\n",
    "    \n",
    "    print('o: {}'.format(o[0]))\n",
    "    print('h: {}'.format(h[0]))\n",
    "    print('c: {}'.format(c[0]))\n",
    "    "
   ]
  },
  {
   "cell_type": "code",
   "execution_count": 94,
   "metadata": {
    "collapsed": false
   },
   "outputs": [
    {
     "name": "stdout",
     "output_type": "stream",
     "text": [
      "LSTM 1 : \n"
     ]
    },
    {
     "name": "stderr",
     "output_type": "stream",
     "text": [
      "C:\\Program Files\\Anaconda3\\lib\\site-packages\\ipykernel\\__main__.py:6: UserWarning: Update your `Model` call to the Keras 2 API: `Model(outputs=[<tf.Tenso..., inputs=Tensor(\"in...)`\n"
     ]
    },
    {
     "name": "stdout",
     "output_type": "stream",
     "text": [
      "o: [0.31699228 0.24222308 0.16005282]\n",
      "h: [0.31699228 0.24222308 0.16005282]\n",
      "c: [0.56443536 0.4489507  0.33671722]\n"
     ]
    }
   ],
   "source": [
    "print(\"LSTM 1 : \")\n",
    "lstm1()"
   ]
  },
  {
   "cell_type": "code",
   "execution_count": 99,
   "metadata": {
    "collapsed": true
   },
   "outputs": [],
   "source": [
    "def lstm2():\n",
    "    input_=Input(shape=(T,D))\n",
    "    rnn=LSTM(M,return_state=True,return_sequences=True)\n",
    "    x=rnn(input_)\n",
    "    model=Model(inputs=input_,output=x)\n",
    "    o, h, c = model.predict(X)\n",
    "    print('o: {}'.format(o))\n",
    "    print('h: {}'.format(h))\n",
    "    print('c: {}'.format(c))"
   ]
  },
  {
   "cell_type": "code",
   "execution_count": 100,
   "metadata": {
    "collapsed": false
   },
   "outputs": [
    {
     "name": "stdout",
     "output_type": "stream",
     "text": [
      "LSTM 2 : \n"
     ]
    },
    {
     "name": "stderr",
     "output_type": "stream",
     "text": [
      "C:\\Program Files\\Anaconda3\\lib\\site-packages\\ipykernel\\__main__.py:5: UserWarning: Update your `Model` call to the Keras 2 API: `Model(outputs=[<tf.Tenso..., inputs=Tensor(\"in...)`\n"
     ]
    },
    {
     "name": "stdout",
     "output_type": "stream",
     "text": [
      "o: [[[-0.0458791  -0.06526076 -0.06763336]\n",
      "  [-0.12111431 -0.06178644 -0.11146988]\n",
      "  [-0.09560191  0.00245191 -0.02843659]\n",
      "  [ 0.03970033 -0.10769232 -0.03200109]\n",
      "  [ 0.08864281 -0.09463426  0.00092189]\n",
      "  [ 0.00486144 -0.12114459 -0.05440369]\n",
      "  [ 0.11399609 -0.15038283  0.00638779]\n",
      "  [ 0.21238942 -0.19897759  0.05224581]]]\n",
      "h: [[ 0.21238942 -0.19897759  0.05224581]]\n",
      "c: [[ 0.6208092  -0.32527298  0.12138824]]\n"
     ]
    }
   ],
   "source": [
    "print(\"LSTM 2 : \")\n",
    "lstm2()"
   ]
  },
  {
   "cell_type": "code",
   "execution_count": 106,
   "metadata": {
    "collapsed": true
   },
   "outputs": [],
   "source": [
    "#GRU only has 1 state h, hence upon calling predict, it return two variables as outputs as opposed to LSTM's 3 variable output\n",
    "def gru1():\n",
    "    input_=Input(shape=(T,D))\n",
    "    rnn=GRU(M,return_state=True)\n",
    "    x=rnn(input_)\n",
    "    \n",
    "    model=Model(inputs=input_,output=x)\n",
    "    o, h = model.predict(X)\n",
    "    print('o: {}'.format(o))\n",
    "    print('h: {}'.format(h))"
   ]
  },
  {
   "cell_type": "code",
   "execution_count": 107,
   "metadata": {
    "collapsed": false
   },
   "outputs": [
    {
     "name": "stdout",
     "output_type": "stream",
     "text": [
      "GRU 1 : \n"
     ]
    },
    {
     "name": "stderr",
     "output_type": "stream",
     "text": [
      "C:\\Program Files\\Anaconda3\\lib\\site-packages\\ipykernel\\__main__.py:7: UserWarning: Update your `Model` call to the Keras 2 API: `Model(outputs=[<tf.Tenso..., inputs=Tensor(\"in...)`\n"
     ]
    },
    {
     "name": "stdout",
     "output_type": "stream",
     "text": [
      "o: [[ 0.5480186  -0.09794031 -0.2499384 ]]\n",
      "h: [[ 0.5480186  -0.09794031 -0.2499384 ]]\n"
     ]
    }
   ],
   "source": [
    "print(\"GRU 1 : \")\n",
    "gru1()"
   ]
  },
  {
   "cell_type": "code",
   "execution_count": 110,
   "metadata": {
    "collapsed": true
   },
   "outputs": [],
   "source": [
    "def gru2():\n",
    "    input_=Input(shape=(T,D))\n",
    "    rnn=GRU(M,return_state=True,return_sequences=True)\n",
    "    x=rnn(input_)\n",
    "    \n",
    "    model=Model(inputs=input_,output=x)\n",
    "    o, h = model.predict(X)\n",
    "    print('o: {}'.format(o))\n",
    "    print('h: {}'.format(h))"
   ]
  },
  {
   "cell_type": "code",
   "execution_count": 111,
   "metadata": {
    "collapsed": false
   },
   "outputs": [
    {
     "name": "stdout",
     "output_type": "stream",
     "text": [
      "GRU 2 : \n"
     ]
    },
    {
     "name": "stderr",
     "output_type": "stream",
     "text": [
      "C:\\Program Files\\Anaconda3\\lib\\site-packages\\ipykernel\\__main__.py:6: UserWarning: Update your `Model` call to the Keras 2 API: `Model(outputs=[<tf.Tenso..., inputs=Tensor(\"in...)`\n"
     ]
    },
    {
     "name": "stdout",
     "output_type": "stream",
     "text": [
      "o: [[[-0.09694223  0.3123183  -0.2988243 ]\n",
      "  [ 0.01884366  0.15992829 -0.30016592]\n",
      "  [ 0.08723767 -0.04206922  0.05738395]\n",
      "  [-0.27064604  0.6638824  -0.5466863 ]\n",
      "  [-0.20834601  0.3594061  -0.35261676]\n",
      "  [-0.15877149  0.3815595  -0.4506476 ]\n",
      "  [-0.22456613  0.37630635 -0.36537403]\n",
      "  [-0.36636692  0.563846   -0.50438243]]]\n",
      "h: [[-0.36636692  0.563846   -0.50438243]]\n"
     ]
    }
   ],
   "source": [
    "print(\"GRU 2 : \")\n",
    "gru2()"
   ]
  },
  {
   "cell_type": "markdown",
   "metadata": {},
   "source": [
    "## As seen above, return_sqeunces = True does return probability for all sequences "
   ]
  }
 ],
 "metadata": {
  "anaconda-cloud": {},
  "kernelspec": {
   "display_name": "Python [default]",
   "language": "python",
   "name": "python3"
  },
  "language_info": {
   "codemirror_mode": {
    "name": "ipython",
    "version": 3
   },
   "file_extension": ".py",
   "mimetype": "text/x-python",
   "name": "python",
   "nbconvert_exporter": "python",
   "pygments_lexer": "ipython3",
   "version": "3.5.5"
  }
 },
 "nbformat": 4,
 "nbformat_minor": 1
}
