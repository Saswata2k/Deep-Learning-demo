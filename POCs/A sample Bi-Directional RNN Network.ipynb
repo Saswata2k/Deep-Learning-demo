{
 "cells": [
  {
   "cell_type": "code",
   "execution_count": 1,
   "metadata": {
    "collapsed": false
   },
   "outputs": [
    {
     "name": "stderr",
     "output_type": "stream",
     "text": [
      "Using TensorFlow backend.\n"
     ]
    }
   ],
   "source": [
    "from keras.models import Model,Sequential\n",
    "from keras.layers import Input,LSTM,GRU,Dense,Bidirectional\n",
    "import numpy as np\n",
    "import matplotlib.pyplot as plt"
   ]
  },
  {
   "cell_type": "code",
   "execution_count": 2,
   "metadata": {
    "collapsed": true
   },
   "outputs": [],
   "source": [
    "#Sequence length, Dimension and number of layers in networks\n",
    "T=8\n",
    "D=2\n",
    "M=3"
   ]
  },
  {
   "cell_type": "code",
   "execution_count": 3,
   "metadata": {
    "collapsed": true
   },
   "outputs": [],
   "source": [
    "X=np.random.randn(1,T,D)"
   ]
  },
  {
   "cell_type": "code",
   "execution_count": 4,
   "metadata": {
    "collapsed": false
   },
   "outputs": [
    {
     "data": {
      "text/plain": [
       "array([[[-1.00217206,  0.96762805],\n",
       "        [-0.90095111, -0.37993646],\n",
       "        [ 0.063364  ,  0.80252842],\n",
       "        [-0.74708321, -0.92274345],\n",
       "        [-2.94021771,  1.3791775 ],\n",
       "        [-0.87175915, -0.5374872 ],\n",
       "        [-0.42946791,  1.29637565],\n",
       "        [ 1.38932278, -0.22125242]]])"
      ]
     },
     "execution_count": 4,
     "metadata": {},
     "output_type": "execute_result"
    }
   ],
   "source": [
    "X"
   ]
  },
  {
   "cell_type": "code",
   "execution_count": 5,
   "metadata": {
    "collapsed": false
   },
   "outputs": [
    {
     "name": "stdout",
     "output_type": "stream",
     "text": [
      "WARNING:tensorflow:From C:\\Program Files\\Anaconda3\\lib\\site-packages\\tensorflow\\python\\framework\\op_def_library.py:263: colocate_with (from tensorflow.python.framework.ops) is deprecated and will be removed in a future version.\n",
      "Instructions for updating:\n",
      "Colocations handled automatically by placer.\n",
      "o: [-0.17942534 -0.22464988 -0.12253849  0.02888082  0.26693296  0.01845236]\n",
      "o.shape: (1, 6)\n",
      "h1: [-0.17942534 -0.22464988 -0.12253849]\n",
      "c1: [-0.4392681  -0.4531418  -0.24519977]\n",
      "h2: [0.02888082 0.26693296 0.01845236]\n",
      "c2: [0.06776591 0.5371736  0.05155258]\n"
     ]
    },
    {
     "name": "stderr",
     "output_type": "stream",
     "text": [
      "C:\\Program Files\\Anaconda3\\lib\\site-packages\\ipykernel\\__main__.py:5: UserWarning: Update your `Model` call to the Keras 2 API: `Model(outputs=[<tf.Tenso..., inputs=Tensor(\"in...)`\n"
     ]
    }
   ],
   "source": [
    "input_=Input(shape=(T,D))\n",
    "rnn=Bidirectional(LSTM(M,return_state=True))\n",
    "x=rnn(input_)\n",
    "    \n",
    "model=Model(inputs=input_,output=x)\n",
    "o, h1, c1, h2, c2=model.predict(X)\n",
    " \n",
    "print('o: {}'.format(o[0]))\n",
    "print('o.shape: {}'.format(o.shape))\n",
    "print('h1: {}'.format(h1[0]))\n",
    "print('c1: {}'.format(c1[0]))\n",
    "print('h2: {}'.format(h2[0]))\n",
    "print('c2: {}'.format(c2[0]))"
   ]
  },
  {
   "cell_type": "markdown",
   "metadata": {},
   "source": [
    "## Observation : Output is concatenation of h1 and h2 since it's bidirectional"
   ]
  }
 ],
 "metadata": {
  "anaconda-cloud": {},
  "kernelspec": {
   "display_name": "Python [conda root]",
   "language": "python",
   "name": "conda-root-py"
  },
  "language_info": {
   "codemirror_mode": {
    "name": "ipython",
    "version": 3
   },
   "file_extension": ".py",
   "mimetype": "text/x-python",
   "name": "python",
   "nbconvert_exporter": "python",
   "pygments_lexer": "ipython3",
   "version": "3.5.5"
  }
 },
 "nbformat": 4,
 "nbformat_minor": 1
}
